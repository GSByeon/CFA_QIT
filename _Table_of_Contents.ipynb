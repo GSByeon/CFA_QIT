{
 "cells": [
  {
   "cell_type": "markdown",
   "metadata": {},
   "source": [
    "This is a group project of the QIT(Quantitative Investing & Trading) Working Group of the CFA Society Korea. Our goal is to implement in Python and apply on the Quantopian platform the contents of a Korean quantitative investment book, *\"You Can Quant Invest\"*. Please understand that most contents will be only in Korean for now, which we would translate into English later. For questions contact me, Vero at vati27@gmail.com<br>\n",
    "\n",
    "The following is the table of contents with links to the notebook of each chapter,<br>\n",
    "and under below the links to the notebook of each strategy (some of which have algos as well)."
   ]
  },
  {
   "cell_type": "markdown",
   "metadata": {},
   "source": [
    "# 책 [할 수 있다! 퀀트 투자]\n",
    "강환국 지음, 신진오 감수"
   ]
  },
  {
   "cell_type": "markdown",
   "metadata": {},
   "source": [
    "## 차례\n",
    "\n",
    "<br>\n",
    "[Ch 0 준비 마당: 왜 계량투자인가](https://www.quantopian.com/research/notebooks/%EC%B1%85%20%5B%ED%95%A0%EC%88%98%EC%9E%88%EB%8B%A4%20%ED%80%80%ED%8A%B8%ED%88%AC%EC%9E%90%5D/0%EC%9E%A5%20%EC%A4%80%EB%B9%84%EB%A7%88%EB%8B%B9%3B%20%EC%99%9C%20%EA%B3%84%EB%9F%89%ED%88%AC%EC%9E%90%EC%9D%B8%EA%B0%80.ipynb)\n",
    "\n",
    "### Part 1. 방어형 투자전략: 우리가 돈 잃지 않는 데 기여한 영웅들\n",
    "\n",
    "[Ch 1 '저PER 혁명' 주도한 신진오](https://www.quantopian.com/research/notebooks/%EC%B1%85%20%5B%ED%95%A0%EC%88%98%EC%9E%88%EB%8B%A4%20%ED%80%80%ED%8A%B8%ED%88%AC%EC%9E%90%5D/1%EC%9E%A5%20'%EC%A0%80PER%20%ED%98%81%EB%AA%85'%20%EC%A3%BC%EB%8F%84%ED%95%9C%20%EC%8B%A0%EC%A7%84%EC%98%A4.ipynb)\n",
    "\n",
    "[Ch 2 분산투자 이론의 창시자, 해리 마코위츠]\n",
    "\n",
    "[Ch 3 '손실 최소화' 끝판왕, systrader79]\n",
    "\n",
    "[Ch 4 듀얼 모멘텀 전략 고안한 게리 안토니치]\n",
    "\n",
    "### Part 2. 공격형 투자전략: 우리가 돈 버는 데 기여한 영웅들\n",
    "\n",
    "[Ch 5 계량 가치투자 전략 창조한 벤저민 그레이엄]\n",
    "\n",
    "[Ch 6 '효율적 시장'과 '저PBR'의 시조, 유진 파마]\n",
    "\n",
    "[Ch 7 밸류 지표 융합한 LSV 콤보 전략]\n",
    "\n",
    "[Ch 8 주식 투자 역대 최강 부자(父子), 필립 피셔와 켄 피셔]\n",
    "\n",
    "[Ch 9 투명한 수익성 지표 발굴한 로버트 노비 마르크스]\n",
    "\n",
    "[Ch 10 그린블라트의 마법공식과 업그레이드 버전]\n",
    "\n",
    "[Ch 11 우량주 발굴법 터득한 조셉 피오트로스키]\n",
    "\n",
    "[Ch 12 상대적 모멘텀의 부활, 제가디시와 티트먼]\n",
    "\n",
    "[Ch 13 계량투자 전략 백과사전, 제임스 오쇼너시]\n",
    "\n",
    "[Ch 14 '계량투자 끝판왕', 애스네스와 AQR의 천재들]\n",
    "\n",
    "[Ch 15 독자들이 개발한 '공격형+방어형' 콤보 전략]\n",
    "\n",
    "[Ch 16 성공적 계량투자를 위한 마지막 조언]\n",
    "\n",
    "[Chapter Final 갈무리 마당: <<할 수 있다! 퀀트 투자>> 총정리]"
   ]
  },
  {
   "cell_type": "markdown",
   "metadata": {},
   "source": [
    "## 투자전략\n",
    "\n",
    "<br>\n",
    "[Strat 1 정률투자법](https://www.quantopian.com/research/notebooks/%EC%B1%85%20%5B%ED%95%A0%EC%88%98%EC%9E%88%EB%8B%A4%20%ED%80%80%ED%8A%B8%ED%88%AC%EC%9E%90%5D/%ED%88%AC%EC%9E%90%EC%A0%84%EB%9E%B5%201%20%EC%A0%95%EB%A5%A0%ED%88%AC%EC%9E%90%EB%B2%95.ipynb)\n",
    "\n",
    "[Strat 2 증액투자법](https://www.quantopian.com/research/notebooks/%EC%B1%85%20%5B%ED%95%A0%EC%88%98%EC%9E%88%EB%8B%A4%20%ED%80%80%ED%8A%B8%ED%88%AC%EC%9E%90%5D/%ED%88%AC%EC%9E%90%EC%A0%84%EB%9E%B5%202%20%EC%A6%9D%EC%95%A1%ED%88%AC%EC%9E%90%EB%B2%95.ipynb)\n",
    "\n",
    "[Strat 3 추세투자법](https://www.quantopian.com/research/notebooks/%EC%B1%85%20%5B%ED%95%A0%EC%88%98%EC%9E%88%EB%8B%A4%20%ED%80%80%ED%8A%B8%ED%88%AC%EC%9E%90%5D/%ED%88%AC%EC%9E%90%EC%A0%84%EB%9E%B5%203%20%EC%B6%94%EC%84%B8%ED%88%AC%EC%9E%90%EB%B2%95.ipynb)\n",
    "\n",
    "[Strat 4 정액매수 및 점증평가 적립식](https://www.quantopian.com/research/notebooks/%EC%B1%85%20%5B%ED%95%A0%EC%88%98%EC%9E%88%EB%8B%A4%20%ED%80%80%ED%8A%B8%ED%88%AC%EC%9E%90%5D/%ED%88%AC%EC%9E%90%EC%A0%84%EB%9E%B5%204%20%EC%A0%95%EC%95%A1%EB%A7%A4%EC%88%98%20%EB%B0%8F%20%EC%A0%90%EC%A6%9D%ED%8F%89%EA%B0%80%20%EC%A0%81%EB%A6%BD%EC%8B%9D.ipynb)\n",
    "\n",
    "[Strat 5 추세-점증평가 전환 적립식](https://www.quantopian.com/research/notebooks/%EC%B1%85%20%5B%ED%95%A0%EC%88%98%EC%9E%88%EB%8B%A4%20%ED%80%80%ED%8A%B8%ED%88%AC%EC%9E%90%5D/%ED%88%AC%EC%9E%90%EC%A0%84%EB%9E%B5%205%20%EC%B6%94%EC%84%B8-%EC%A0%90%EC%A6%9D%ED%8F%89%EA%B0%80%20%EC%A0%84%ED%99%98%20%EC%A0%81%EB%A6%BD%EC%8B%9D.ipynb)\n",
    "\n",
    "[Strat 6 가치가중 포트폴리오](https://www.quantopian.com/research/notebooks/%EC%B1%85%20%5B%ED%95%A0%EC%88%98%EC%9E%88%EB%8B%A4%20%ED%80%80%ED%8A%B8%ED%88%AC%EC%9E%90%5D/%ED%88%AC%EC%9E%90%EC%A0%84%EB%9E%B5%206%20%EA%B0%80%EC%B9%98%EA%B0%80%EC%A4%91%20%ED%8F%AC%ED%8A%B8%ED%8F%B4%EB%A6%AC%EC%98%A4.ipynb)\n",
    "\n",
    ".<br>\n",
    ".<br>\n",
    ".<br>\n",
    "\n",
    "[Strat 37 슈퍼스타 K]"
   ]
  }
 ],
 "metadata": {
  "kernelspec": {
   "display_name": "Python 2",
   "language": "python",
   "name": "python2"
  },
  "language_info": {
   "codemirror_mode": {
    "name": "ipython",
    "version": 2
   },
   "file_extension": ".py",
   "mimetype": "text/x-python",
   "name": "python",
   "nbconvert_exporter": "python",
   "pygments_lexer": "ipython2",
   "version": "2.7.12"
  }
 },
 "nbformat": 4,
 "nbformat_minor": 2
}
