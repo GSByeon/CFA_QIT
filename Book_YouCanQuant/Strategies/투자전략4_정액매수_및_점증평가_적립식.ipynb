{
 "cells": [
  {
   "cell_type": "markdown",
   "metadata": {},
   "source": [
    "## 투자전략 4 정액매수 및 점증평가 적립식"
   ]
  },
  {
   "cell_type": "markdown",
   "metadata": {},
   "source": [
    "### Strategy:\n",
    "\n",
    "정액매수 적립식: 매월 일정액 주가지수 ETF 매수<br>\n",
    "점증평가 적립식: 주식 평가액이 전월대비 일정하게 증가토록 주가지수 ETF 매수<br>\n",
    "매도전략 없음<br>\n",
    "[스타일: 자산배분]"
   ]
  },
  {
   "cell_type": "markdown",
   "metadata": {},
   "source": [
    "정액매수 적립식(**Dollar cost averaging**)\n",
    "\n",
    "종목을 여러 개로 분산투자 하는 것도 중요하지만,<br>\n",
    "매수 시점을 분산해도 투자위험을 감소할 수 있다.\n",
    "\n",
    "점증평가 적립식(**Value averaging**)\n",
    "\n",
    "Michael Adelson의 책 [Value Averaging]<br>\n",
    "정액매수 적립식보다 평균 매수단가가 낮아지는 것이 장점"
   ]
  }
 ],
 "metadata": {
  "kernelspec": {
   "display_name": "Python 2",
   "language": "python",
   "name": "python2"
  },
  "language_info": {
   "codemirror_mode": {
    "name": "ipython",
    "version": 2
   },
   "file_extension": ".py",
   "mimetype": "text/x-python",
   "name": "python",
   "nbconvert_exporter": "python",
   "pygments_lexer": "ipython2",
   "version": "2.7.12"
  }
 },
 "nbformat": 4,
 "nbformat_minor": 2
}