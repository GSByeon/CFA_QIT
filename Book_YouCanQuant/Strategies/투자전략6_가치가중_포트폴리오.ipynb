{
 "cells": [
  {
   "cell_type": "markdown",
   "metadata": {},
   "source": [
    "## 투자전략 6 가치가중 포트폴리오"
   ]
  },
  {
   "cell_type": "markdown",
   "metadata": {},
   "source": [
    "### Strategy:\n",
    "\n",
    "월1회 리밸런싱<br>\n",
    "리밸런싱 시점에 보유한 '내재가치' 측정<br>\n",
    "모든 보유 주식의 내재가치/시가총액(=V/P) 계산<br>\n",
    "모든 보유 종목의 V/P를 합함\n",
    "[스타일: 자산배분]"
   ]
  },
  {
   "cell_type": "code",
   "execution_count": 2,
   "metadata": {
    "collapsed": false
   },
   "outputs": [
    {
     "name": "stdout",
     "output_type": "stream",
     "text": [
      "intrisic value = 5.0\n"
     ]
    }
   ],
   "source": [
    "# 필자는 간단한 공식을 사용\n",
    "\n",
    "BPS = 2\n",
    "EPS = 0.3\n",
    "intrinsic_value = BPS + EPS * 10\n",
    "\n",
    "print('intrisic value = {}'.format(intrinsic_value))"
   ]
  }
 ],
 "metadata": {
  "kernelspec": {
   "display_name": "Python 2",
   "language": "python",
   "name": "python2"
  },
  "language_info": {
   "codemirror_mode": {
    "name": "ipython",
    "version": 2
   },
   "file_extension": ".py",
   "mimetype": "text/x-python",
   "name": "python",
   "nbconvert_exporter": "python",
   "pygments_lexer": "ipython2",
   "version": "2.7.12"
  }
 },
 "nbformat": 4,
 "nbformat_minor": 2
}