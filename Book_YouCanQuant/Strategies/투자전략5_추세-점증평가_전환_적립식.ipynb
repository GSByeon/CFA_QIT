{
 "cells": [
  {
   "cell_type": "markdown",
   "metadata": {},
   "source": [
    "## 투자전략 5 추세-점증평가 전환 적립식"
   ]
  },
  {
   "cell_type": "markdown",
   "metadata": {},
   "source": [
    "### Strategy:\n",
    "\n",
    "투자전략 4의 점증평가 적립식으로 주식 평가액이 전월대비 일정액 증가하도록 매매<br>\n",
    "그런데 3개월 이평선이 하락 반전하면 전부 매도<br>\n",
    "3개월 이평선이 상승 반전하면 다시 점증평가 적립식 진행<br>\n",
    "[스타일: 모멘텀 + 자산배분]"
   ]
  },
  {
   "cell_type": "markdown",
   "metadata": {},
   "source": [
    "추세투자법과 점증평가 적립식을 합친 콤보전략"
   ]
  }
 ],
 "metadata": {
  "kernelspec": {
   "display_name": "Python 2",
   "language": "python",
   "name": "python2"
  },
  "language_info": {
   "codemirror_mode": {
    "name": "ipython",
    "version": 2
   },
   "file_extension": ".py",
   "mimetype": "text/x-python",
   "name": "python",
   "nbconvert_exporter": "python",
   "pygments_lexer": "ipython2",
   "version": "2.7.12"
  }
 },
 "nbformat": 4,
 "nbformat_minor": 2
}