{
 "cells": [
  {
   "cell_type": "markdown",
   "metadata": {},
   "source": [
    "# Part 1 방어형 투자전략\n",
    "### 우리가 돈 잃지 않는 데 기여한 영웅들"
   ]
  },
  {
   "cell_type": "markdown",
   "metadata": {},
   "source": [
    "**'MDD 최소화'**에 초점\n",
    "\n",
    "워런 버핏의 투자의 절대원칙:<br>\n",
    "첫째, 돈을 잃지 않는다.<br>\n",
    "둘째, 첫번째 원칙을 잊지 않는다.<br>\n",
    "\n",
    "행복해지자고 투자하는 것 아닌가?<br>\n",
    "고통을 이겨내야 수익이라는 열매를 맛볼 수 있다?<br>\n",
    "무슨 말도 안 되는 소리인가?<br>\n",
    "고통을 최대한 피하면서 수익을 내는,<br>\n",
    "**행복한 투자**가 가능한 방어형 투자전략이 있다.<br>"
   ]
  },
  {
   "cell_type": "markdown",
   "metadata": {},
   "source": [
    "## Chapter 1 '저PER 혁명' 주도한 신진오"
   ]
  },
  {
   "cell_type": "markdown",
   "metadata": {},
   "source": [
    "### 05 가치투자 시대의 서막을 열다\n",
    "\n",
    "가치투자 독서클럽 '밸류리더스' 신진오 회장\n",
    "- 명저 [전략적 가치 투자]\n",
    "- '신진오 리스트' --> '저PER 혁명'\n",
    "- '업종 대표주 20종목' --> '핵심 블루칩'"
   ]
  },
  {
   "cell_type": "markdown",
   "metadata": {},
   "source": [
    "### 06 세타전략\n",
    "\n",
    "**은퇴자금**을 위해 소득이 발생하는 시기에 미리 적절한 투자규모를 결정"
   ]
  },
  {
   "cell_type": "code",
   "execution_count": 45,
   "metadata": {
    "collapsed": false
   },
   "outputs": [
    {
     "name": "stdout",
     "output_type": "stream",
     "text": [
      "은퇴자금: 21.7억원\n"
     ]
    }
   ],
   "source": [
    "'''\n",
    "원금을 까먹지 않고 오로지 자본수익만으로 여생 보내려면...\n",
    "'''\n",
    "\n",
    "Yearly_expense_after_retirement = 500 * 12  # 단위:만원 * 개월\n",
    "R = .08  # 은퇴 후 기대 CAGR\n",
    "i = .03  # 예상 inflation\n",
    "n = 20   # 은퇴까지 남은 연수\n",
    "\n",
    "Retirement_capital = Yearly_expense_after_retirement * (1 + i)**n / (R - i)\n",
    "\n",
    "print('은퇴자금: {}억원'.format(round(Retirement_capital / 10000, 1)))"
   ]
  },
  {
   "cell_type": "markdown",
   "metadata": {},
   "source": [
    "이제 현재 자산이 얼마 필요한지, 몇 %씩 불려야 하는지, 얼마를 매월 추가 적립해야 하는지:<br>\n",
    "[Investment Inflation Calculator](https://www.calculatorsoup.com/calculators/financial/investment-inflation-calculator.php)"
   ]
  },
  {
   "cell_type": "markdown",
   "metadata": {},
   "source": [
    "### 07 베타전략\n",
    "\n",
    "수익률을 '더' 높이는 **주식비중** 조절의 위력\n",
    "\n",
    "<br>\n",
    "이 배타전략들은 2부의 공격형 전략과 합쳐 응용할 수 있는 전략이 많다.\n",
    "\n",
    "[투자전략 1 정률투자법]\n",
    "\n",
    "[투자전략 2 증액투자법]\n",
    "\n",
    "[투자전략 3 추세투자법]\n",
    "\n",
    "[투자전략 4 정액매수 및 점증평가 적립식]\n",
    "\n",
    "[투자전략 5 추세-점증평가 전환 적립식]"
   ]
  },
  {
   "cell_type": "markdown",
   "metadata": {},
   "source": [
    "### 08 알파전략\n",
    "\n",
    "포트폴리오 **종목비중** 조절의 마법\n",
    "\n",
    "<br>\n",
    "종목 선정 기법은 5장부터 배울 것이지만, 여기선 '가치가중 포트폴리오'를 살펴본다.<br>\n",
    "(이 책의 대부분 전략은 동일비중, 연1회 리밸런싱 포트폴리오를 추구하지만)\n",
    "\n",
    "주가 대비 내재가치가 우량한 종목의 비중을 높이는 것이다.\n",
    "\n",
    "[투자전략 6 가치가중 포트폴리오]"
   ]
  },
  {
   "cell_type": "markdown",
   "metadata": {},
   "source": [
    "### 09 공격형 전략과 융합하라\n",
    "\n",
    "<br>\n",
    "주식시장에는 '좋은 종목 매수' 말고도 돈 벌 다양한 방법이 있다.<br>\n",
    "\n",
    "지금까지 배운 6개의 투자전략은 주가지수/개별주식 포트폴리오에 적용할 수 있으며,<br>\n",
    "특히 2부에서 다룰 '공격형' 전략과 조합하면 CAGR을 높이면서, MDD를 낮출 수 있다.\n",
    "\n",
    "예: 공격형 포트폴리오 + 정률투자법/증액투자법/추세투자법"
   ]
  },
  {
   "cell_type": "markdown",
   "metadata": {},
   "source": [
    "### 10 적립식 투자와 품위 있는 노후\n",
    "\n",
    "<br>\n",
    "Albert Einstein: \"세계 8번째 불가사의는 복리\" <br>\n",
    "*\"Compound interest is the eighth wonder of the world.<br>\n",
    "He who understands it, earns it... he who doesn't... pays it.\"*\n",
    "\n",
    "즐겁고 품위 있는 노후를 보내는 방법:<br>\n",
    "(1) 자신에게 맞는 적절한 '공격형' 투자전략을 1~2개 선택<br>\n",
    "(2) 그 전략에 매월 100만원 투자<br>\n",
    "(3) CAGR 15~25% 벌기<br>\n",
    "(4) 20년 후 14~51억원을 보유한 자산가"
   ]
  }
 ],
 "metadata": {
  "kernelspec": {
   "display_name": "Python 2",
   "language": "python",
   "name": "python2"
  },
  "language_info": {
   "codemirror_mode": {
    "name": "ipython",
    "version": 2
   },
   "file_extension": ".py",
   "mimetype": "text/x-python",
   "name": "python",
   "nbconvert_exporter": "python",
   "pygments_lexer": "ipython2",
   "version": "2.7.12"
  }
 },
 "nbformat": 4,
 "nbformat_minor": 2
}